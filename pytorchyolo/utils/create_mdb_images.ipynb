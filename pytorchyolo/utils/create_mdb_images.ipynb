{
 "cells": [
  {
   "cell_type": "code",
   "execution_count": 2,
   "metadata": {},
   "outputs": [],
   "source": [
    "import os\n",
    "import lmdb\n",
    "import tkinter as tk\n",
    "from tkinter import filedialog\n",
    "import glob\n",
    "import cv2\n",
    "from pathlib import Path"
   ]
  },
  {
   "cell_type": "code",
   "execution_count": 3,
   "metadata": {},
   "outputs": [],
   "source": [
    "BASE_DIR = os.getcwd()\n",
    "root = tk.Tk()\n",
    "root.withdraw()\n",
    "\n",
    "FOLDER_PATH = filedialog.askdirectory(title=\"Select directory containing images\")\n",
    "IMAGES_LIST = glob.glob(f\"{FOLDER_PATH}/*.png\")"
   ]
  },
  {
   "cell_type": "code",
   "execution_count": 4,
   "metadata": {},
   "outputs": [
    {
     "name": "stdout",
     "output_type": "stream",
     "text": [
      "D:\\Datasets\\PVDN\\images_lmdb\n",
      "Generate LMDB to D:/Datasets/PVDN/images_lmdb\n"
     ]
    }
   ],
   "source": [
    "lmdb_path = Path(\"/\".join(str(FOLDER_PATH).split(\"/\")[:-1]) + \"/images_lmdb\")\n",
    "print(lmdb_path)\n",
    "lmdb_path.mkdir(parents=True, exist_ok=True)\n",
    "lmdb_path = lmdb_path.as_posix()\n",
    "\n",
    "print(\"Generate LMDB to %s\" % lmdb_path)"
   ]
  },
  {
   "cell_type": "code",
   "execution_count": 5,
   "metadata": {},
   "outputs": [
    {
     "name": "stderr",
     "output_type": "stream",
     "text": [
      "C:\\Users\\u7oh2m\\AppData\\Local\\Temp\\ipykernel_24624\\3010404039.py:1: DeprecationWarning: an integer is required (got type float).  Implicit conversion to integers using __int__ is deprecated, and may be removed in a future version of Python.\n",
      "  db = lmdb.open(lmdb_path, subdir=True,\n"
     ]
    },
    {
     "name": "stdout",
     "output_type": "stream",
     "text": [
      "Done processing.\n"
     ]
    }
   ],
   "source": [
    "db = lmdb.open(lmdb_path, subdir=True,\n",
    "                map_size=5e11, readonly=False,\n",
    "                meminit=False, map_async=True, writemap=True)\n",
    "    \n",
    "txn = db.begin(write=True)\n",
    "# for index in range(len(IMAGES_LIST)): #num_samples): (limit the number of sample to 10 vor test purpose)\n",
    "for index in range(10): #num_samples): (limit the number of sample to 10 vor test purpose)\n",
    "    # print(str(IMAGES_LIST[index]))\n",
    "    read_img = cv2.imread(str(IMAGES_LIST[index]))\n",
    "    #read_pcd = open(sample_paths[index])    \n",
    "    file_path = u'{}'.format(IMAGES_LIST[index]).encode('ascii') # dumps(sample_paths[index])\n",
    "    \n",
    "    # TODO: finde better way to store multiple data to one key\n",
    "    # write methods for the other data types (.pcd and .pcd.bin)\n",
    "            \n",
    "    txn.put(file_path, cv2.imencode('.jpg',read_img)[1])\n",
    "    #txn.put(u'y_{}'.format(index).encode('ascii'), img_path)\n",
    "    if index != 0 and index % 10 == 0:\n",
    "        print(\"[%d]\" % (index))\n",
    "        txn.commit()\n",
    "\n",
    "txn.commit()\n",
    "\n",
    "#keys = [u'{}'.format(k).encode('ascii') for k in range(index + 1)]\n",
    "#with db.begin(write=True) as txn:\n",
    "#    txn.put(b'__keys__', dumps(keys))\n",
    "#    txn.put(b'__len__', dumps(len(keys)))\n",
    "\n",
    "db.sync()\n",
    "db.close()\n",
    "print(\"Done processing.\")"
   ]
  }
 ],
 "metadata": {
  "kernelspec": {
   "display_name": "AptivCV",
   "language": "python",
   "name": "python3"
  },
  "language_info": {
   "codemirror_mode": {
    "name": "ipython",
    "version": 3
   },
   "file_extension": ".py",
   "mimetype": "text/x-python",
   "name": "python",
   "nbconvert_exporter": "python",
   "pygments_lexer": "ipython3",
   "version": "3.9.15"
  },
  "orig_nbformat": 4
 },
 "nbformat": 4,
 "nbformat_minor": 2
}
