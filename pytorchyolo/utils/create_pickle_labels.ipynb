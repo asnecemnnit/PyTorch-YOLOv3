{
 "cells": [
  {
   "cell_type": "code",
   "execution_count": 38,
   "metadata": {},
   "outputs": [],
   "source": [
    "import os\n",
    "import pickle\n",
    "import tkinter as tk\n",
    "from tkinter import filedialog"
   ]
  },
  {
   "cell_type": "code",
   "execution_count": 39,
   "metadata": {},
   "outputs": [],
   "source": [
    "# BASE_DIR = os.getcwd()\n",
    "# root = tk.Tk()\n",
    "# root.withdraw()\n",
    "\n",
    "# FOLDER_PATH = filedialog.askdirectory(title=\"Select directory containing annotation files (labels in YOLO format)\")\n",
    "FOLDER_PATH = \"/mnt/d/Datasets/PVDN/labels/\""
   ]
  },
  {
   "cell_type": "code",
   "execution_count": 40,
   "metadata": {},
   "outputs": [
    {
     "name": "stdout",
     "output_type": "stream",
     "text": [
      "/mnt/d/Datasets/PVDN/labels.pkl\n"
     ]
    }
   ],
   "source": [
    "PKL_PATH = \"/\".join(str(FOLDER_PATH).split(\"/\")[:-2]) + \"/labels.pkl\"\n",
    "print(PKL_PATH)"
   ]
  },
  {
   "cell_type": "code",
   "execution_count": 41,
   "metadata": {},
   "outputs": [],
   "source": [
    "# create an empty object\n",
    "empty_object = {}\n",
    "\n",
    "# open a file in binary write mode\n",
    "with open(PKL_PATH, 'wb') as file:\n",
    "    # dump the empty object into the file\n",
    "    pickle.dump(empty_object, file)"
   ]
  },
  {
   "cell_type": "code",
   "execution_count": 42,
   "metadata": {},
   "outputs": [],
   "source": [
    "my_dict = {}\n",
    "# cnt = 0\n",
    "for name in os.listdir(FOLDER_PATH):\n",
    "    # if cnt > 100:\n",
    "    #     break\n",
    "    # print(file)\n",
    "    path = os.path.join(FOLDER_PATH, name)\n",
    "    if not os.path.isfile(path):\n",
    "        continue\n",
    "    with open(path, \"rb\") as fileobj:\n",
    "        image_label_name = path.split(\"/\")[-1].split(\".\")[0]\n",
    "        bytes_list = fileobj.read().splitlines()\n",
    "        filtered_bytes_no_other = [byte for byte in bytes_list if not byte.startswith(b'2')]\n",
    "        result = b'\\n'.join(filtered_bytes_no_other)\n",
    "        # print(image_label_name)\n",
    "        my_dict[image_label_name] = result\n",
    "    # cnt = cnt + 1"
   ]
  },
  {
   "cell_type": "code",
   "execution_count": 43,
   "metadata": {},
   "outputs": [
    {
     "name": "stdout",
     "output_type": "stream",
     "text": [
      "59746\n"
     ]
    }
   ],
   "source": [
    "print(len(my_dict))"
   ]
  },
  {
   "cell_type": "code",
   "execution_count": 44,
   "metadata": {},
   "outputs": [
    {
     "name": "stdout",
     "output_type": "stream",
     "text": [
      "b'0 0.4890625 0.5583333333333333 0.00625 0.008333333333333333\\n0 0.5078125 0.5583333333333333 0.00625 0.008333333333333333'\n"
     ]
    }
   ],
   "source": [
    "print(my_dict['S00320_111012'])"
   ]
  },
  {
   "cell_type": "code",
   "execution_count": 45,
   "metadata": {},
   "outputs": [],
   "source": [
    "with open(PKL_PATH, \"wb\") as fileobj:\n",
    "    pickle.dump(my_dict, fileobj)"
   ]
  },
  {
   "cell_type": "code",
   "execution_count": 46,
   "metadata": {},
   "outputs": [],
   "source": [
    "new_dict = {}\n",
    "with open(PKL_PATH, \"rb\") as fileobj:\n",
    "    new_dict = pickle.load(fileobj)"
   ]
  },
  {
   "cell_type": "code",
   "execution_count": 48,
   "metadata": {},
   "outputs": [
    {
     "name": "stdout",
     "output_type": "stream",
     "text": [
      "b'0 0.553515625 0.5223958333333333 0.00390625 0.005208333333333333\\n0 0.564453125 0.5223958333333333 0.00390625 0.005208333333333333\\n0 0.544921875 0.5203125 0.00234375 0.003125\\n0 0.550390625 0.5203125 0.00234375 0.003125'\n"
     ]
    }
   ],
   "source": [
    "print(new_dict['S00010_4209'])"
   ]
  }
 ],
 "metadata": {
  "kernelspec": {
   "display_name": "AptivCV",
   "language": "python",
   "name": "python3"
  },
  "language_info": {
   "codemirror_mode": {
    "name": "ipython",
    "version": 3
   },
   "file_extension": ".py",
   "mimetype": "text/x-python",
   "name": "python",
   "nbconvert_exporter": "python",
   "pygments_lexer": "ipython3",
   "version": "3.8.10"
  },
  "orig_nbformat": 4
 },
 "nbformat": 4,
 "nbformat_minor": 2
}
