{
 "cells": [
  {
   "cell_type": "code",
   "execution_count": 1,
   "metadata": {},
   "outputs": [],
   "source": [
    "import os\n",
    "import pickle\n",
    "import tkinter as tk\n",
    "from tkinter import filedialog"
   ]
  },
  {
   "cell_type": "code",
   "execution_count": 2,
   "metadata": {},
   "outputs": [],
   "source": [
    "# BASE_DIR = os.getcwd()\n",
    "# root = tk.Tk()\n",
    "# root.withdraw()\n",
    "\n",
    "# FOLDER_PATH = filedialog.askdirectory(title=\"Select directory containing annotation files (labels in YOLO format)\")\n",
    "FOLDER_PATH = \"/mnt/d/Datasets/PVDN/labels/\""
   ]
  },
  {
   "cell_type": "code",
   "execution_count": 3,
   "metadata": {},
   "outputs": [
    {
     "name": "stdout",
     "output_type": "stream",
     "text": [
      "/mnt/d/Datasets/PVDN/labels/labels_test.pkl\n"
     ]
    }
   ],
   "source": [
    "PKL_PATH = \"/\".join(str(FOLDER_PATH).split(\"/\")[:-1]) + \"/labels_test.pkl\"\n",
    "print(PKL_PATH)"
   ]
  },
  {
   "cell_type": "code",
   "execution_count": 4,
   "metadata": {},
   "outputs": [],
   "source": [
    "# create an empty object\n",
    "empty_object = {}\n",
    "\n",
    "# open a file in binary write mode\n",
    "with open(PKL_PATH, 'wb') as file:\n",
    "    # dump the empty object into the file\n",
    "    pickle.dump(empty_object, file)"
   ]
  },
  {
   "cell_type": "code",
   "execution_count": 5,
   "metadata": {},
   "outputs": [],
   "source": [
    "my_dict = {}\n",
    "# cnt = 0\n",
    "for name in os.listdir(FOLDER_PATH):\n",
    "    # if cnt > 100:\n",
    "    #     break\n",
    "    # print(file)\n",
    "    path = os.path.join(FOLDER_PATH, name)\n",
    "    if not os.path.isfile(path):\n",
    "        continue\n",
    "    with open(path, \"rb\") as fileobj:\n",
    "        image_label_name = path.split(\"/\")[-1].split(\".\")[0]\n",
    "        # print(image_label_name)\n",
    "        my_dict[image_label_name] = fileobj.read()\n",
    "    # cnt = cnt + 1"
   ]
  },
  {
   "cell_type": "code",
   "execution_count": 6,
   "metadata": {},
   "outputs": [
    {
     "name": "stdout",
     "output_type": "stream",
     "text": [
      "59747\n"
     ]
    }
   ],
   "source": [
    "print(len(my_dict))"
   ]
  },
  {
   "cell_type": "code",
   "execution_count": 7,
   "metadata": {},
   "outputs": [],
   "source": [
    "with open(PKL_PATH, \"wb\") as fileobj:\n",
    "    pickle.dump(my_dict, fileobj)"
   ]
  }
 ],
 "metadata": {
  "kernelspec": {
   "display_name": "AptivCV",
   "language": "python",
   "name": "python3"
  },
  "language_info": {
   "codemirror_mode": {
    "name": "ipython",
    "version": 3
   },
   "file_extension": ".py",
   "mimetype": "text/x-python",
   "name": "python",
   "nbconvert_exporter": "python",
   "pygments_lexer": "ipython3",
   "version": "3.8.10"
  },
  "orig_nbformat": 4
 },
 "nbformat": 4,
 "nbformat_minor": 2
}
