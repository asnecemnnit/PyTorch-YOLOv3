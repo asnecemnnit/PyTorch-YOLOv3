{
 "cells": [
  {
   "cell_type": "code",
   "execution_count": 1,
   "metadata": {},
   "outputs": [],
   "source": [
    "import os\n",
    "import lmdb\n",
    "import tkinter as tk\n",
    "from tkinter import filedialog\n",
    "import glob\n",
    "import cv2\n",
    "from pathlib import Path\n",
    "import torch\n",
    "from torch.utils.data import Dataset, DataLoader\n",
    "import numpy as np\n",
    "import matplotlib.pyplot as plt\n",
    "import pickle\n",
    "from PIL import Image\n",
    "import random"
   ]
  },
  {
   "cell_type": "code",
   "execution_count": 2,
   "metadata": {},
   "outputs": [],
   "source": [
    "# BASE_DIR = os.getcwd()\n",
    "# root = tk.Tk()\n",
    "# root.withdraw()\n",
    "\n",
    "# FOLDER_PATH = filedialog.askdirectory(title=\"Select directory containing images\")\n",
    "IMAGES_PATH = \"/mnt/d/Datasets/PVDN/images/\"\n",
    "LABELS_PATH = \"/mnt/d/Datasets/PVDN/labels/\""
   ]
  },
  {
   "cell_type": "code",
   "execution_count": 3,
   "metadata": {},
   "outputs": [
    {
     "name": "stdout",
     "output_type": "stream",
     "text": [
      "Reading pickel labels from /mnt/d/Datasets/PVDN/labels/labels_test.pkl\n",
      "Reading LMDB images from /mnt/d/Datasets/PVDN/images/images_lmdb_test\n"
     ]
    }
   ],
   "source": [
    "PKL_PATH = \"/\".join(str(LABELS_PATH).split(\"/\")[:-1]) + \"/labels_test.pkl\"\n",
    "# print(pkl_path)\n",
    "DB_PATH = Path(\"/\".join(str(IMAGES_PATH).split(\"/\")[:-1]) + \"/images_lmdb_test\")\n",
    "# print(lmdb_path)\n",
    "DB_PATH.mkdir(parents=True, exist_ok=True)\n",
    "DB_PATH = DB_PATH.as_posix()\n",
    "\n",
    "print(\"Reading pickel labels from %s\" % PKL_PATH)\n",
    "print(\"Reading LMDB images from %s\" % DB_PATH)"
   ]
  },
  {
   "cell_type": "code",
   "execution_count": 8,
   "metadata": {},
   "outputs": [],
   "source": [
    "def resize(image, size):\n",
    "    image = F.interpolate(image.unsqueeze(0), size=size, mode=\"nearest\").squeeze(0)\n",
    "    return image"
   ]
  },
  {
   "cell_type": "code",
   "execution_count": 9,
   "metadata": {},
   "outputs": [],
   "source": [
    "class my_dataset_LMDB(Dataset):\n",
    "    def __init__(self, list_path, img_size=416, multiscale=True, transform=None):\n",
    "        self.db_path = DB_PATH\n",
    "        self.pkl_path = PKL_PATH\n",
    "        self.key_labels = {}\n",
    "\n",
    "        with open(list_path, \"r\") as file:\n",
    "            self.img_files = file.readlines()\n",
    "        self.image_labels = [path.split(\"/\")[-1].split(\".\")[0] for path in self.img_files]\n",
    "\n",
    "        # Delay loading LMDB data until after initialization to avoid \"can't pickle Environment Object error\"\n",
    "        self._init_db()\n",
    "        self._init_pkl()\n",
    "\n",
    "        self.img_size = img_size\n",
    "        self.max_objects = 100\n",
    "        self.multiscale = multiscale\n",
    "        self.min_size = self.img_size - 3 * 32\n",
    "        self.max_size = self.img_size + 3 * 32\n",
    "        self.batch_count = 0\n",
    "        self.transform = transform\n",
    "        \n",
    "\n",
    "    def _init_db(self):\n",
    "        self.env = lmdb.open(self.db_path, subdir=os.path.isdir(self.db_path),\n",
    "            readonly=True, lock=False,\n",
    "            readahead=False, meminit=False)\n",
    "        self.txn = self.env.begin()\n",
    "        \n",
    "    \n",
    "    def _init_pkl(self):\n",
    "        with open(self.pkl_path, 'rb') as handle:\n",
    "            self.key_labels = pickle.load(handle)\n",
    "\n",
    "    def read_lmdb(self, key):\n",
    "        lmdb_data = self.txn.get(key.encode(\"ascii\"))\n",
    "        lmdb_data = np.frombuffer(lmdb_data, dtype=np.uint8)\n",
    "        lmdb_data = cv2.imdecode(lmdb_data, cv2.IMREAD_COLOR)\n",
    "        pil_image = np.array(Image.fromarray(lmdb_data).convert('RGB'), dtype=np.uint8)\n",
    "        return pil_image\n",
    "\n",
    "    def read_pkl(self, key):\n",
    "        data_str = self.key_labels[key].decode('utf-8').split('\\n')\n",
    "        result = np.array([list(map(float, s.split())) for s in data_str if s])\n",
    "        return result\n",
    "\n",
    "    def __getitem__(self, index):\n",
    "        img = self.read_lmdb(self.image_labels[index])\n",
    "        boxes = self.read_pkl(self.image_labels[index])\n",
    "        print(img, boxes)\n",
    "        # -----------\n",
    "        #  Transform\n",
    "        # -----------\n",
    "        if self.transform:\n",
    "            try:\n",
    "                img, bb_targets = self.transform((img, boxes))\n",
    "            except Exception:\n",
    "                print(\"Could not apply transform.\")\n",
    "                return\n",
    "        return None, img, bb_targets\n",
    "\n",
    "    def collate_fn(self, batch):\n",
    "        self.batch_count += 1\n",
    "\n",
    "        # Drop invalid images\n",
    "        batch = [data for data in batch if data is not None]\n",
    "\n",
    "        __, imgs, bb_targets = list(zip(*batch))\n",
    "\n",
    "        # Selects new image size every tenth batch\n",
    "        if self.multiscale and self.batch_count % 10 == 0:\n",
    "            self.img_size = random.choice(\n",
    "                range(self.min_size, self.max_size + 1, 32))\n",
    "\n",
    "        # Resize images to input shape\n",
    "        imgs = torch.stack([resize(img, self.img_size) for img in imgs])\n",
    "\n",
    "        # Add sample index to targets\n",
    "        for i, boxes in enumerate(bb_targets):\n",
    "            boxes[:, 0] = i\n",
    "        bb_targets = torch.cat(bb_targets, 0)\n",
    "\n",
    "        return __, imgs, bb_targets\n",
    "    \n",
    "    def __len__(self):\n",
    "        return len(self.image_labels)"
   ]
  }
 ],
 "metadata": {
  "kernelspec": {
   "display_name": "AptivCV",
   "language": "python",
   "name": "python3"
  },
  "language_info": {
   "codemirror_mode": {
    "name": "ipython",
    "version": 3
   },
   "file_extension": ".py",
   "mimetype": "text/x-python",
   "name": "python",
   "nbconvert_exporter": "python",
   "pygments_lexer": "ipython3",
   "version": "3.8.10"
  },
  "orig_nbformat": 4
 },
 "nbformat": 4,
 "nbformat_minor": 2
}
