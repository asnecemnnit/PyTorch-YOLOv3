{
 "cells": [
  {
   "cell_type": "code",
   "execution_count": 1,
   "metadata": {},
   "outputs": [],
   "source": [
    "import h5py"
   ]
  },
  {
   "cell_type": "code",
   "execution_count": 2,
   "metadata": {},
   "outputs": [],
   "source": [
    "HDF5_PATH = \"/mnt/d/Datasets/PVDN/images_hdf5/PVDN_images_labels_map.hdf5\""
   ]
  },
  {
   "cell_type": "code",
   "execution_count": 9,
   "metadata": {},
   "outputs": [
    {
     "name": "stdout",
     "output_type": "stream",
     "text": [
      "Group 'VASP' has been removed.\n"
     ]
    }
   ],
   "source": [
    "# Open the HDF5 file in read/write mode\n",
    "file = h5py.File(HDF5_PATH, \"r+\")\n",
    "\n",
    "# Check if the group exists\n",
    "group_name = \"VASP\"\n",
    "if group_name in file:\n",
    "    # Remove the group\n",
    "    del file[group_name]\n",
    "    print(\"Group '{}' has been removed.\".format(group_name))\n",
    "else:\n",
    "    print(\"Group '{}' does not exist.\".format(group_name))\n",
    "\n",
    "# Close the file\n",
    "file.close()"
   ]
  }
 ],
 "metadata": {
  "kernelspec": {
   "display_name": "AptivCV",
   "language": "python",
   "name": "python3"
  },
  "language_info": {
   "codemirror_mode": {
    "name": "ipython",
    "version": 3
   },
   "file_extension": ".py",
   "mimetype": "text/x-python",
   "name": "python",
   "nbconvert_exporter": "python",
   "pygments_lexer": "ipython3",
   "version": "3.8.10"
  },
  "orig_nbformat": 4
 },
 "nbformat": 4,
 "nbformat_minor": 2
}
